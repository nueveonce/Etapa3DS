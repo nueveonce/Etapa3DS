{
  "nbformat": 4,
  "nbformat_minor": 0,
  "metadata": {
    "colab": {
      "provenance": [],
      "authorship_tag": "ABX9TyM3r2+Ti0avmxY4f1CW52z+",
      "include_colab_link": true
    },
    "kernelspec": {
      "name": "python3",
      "display_name": "Python 3"
    },
    "language_info": {
      "name": "python"
    }
  },
  "cells": [
    {
      "cell_type": "markdown",
      "metadata": {
        "id": "view-in-github",
        "colab_type": "text"
      },
      "source": [
        "<a href=\"https://colab.research.google.com/github/nueveonce/Etapa3DS/blob/main/Etapa3.ipynb\" target=\"_parent\"><img src=\"https://colab.research.google.com/assets/colab-badge.svg\" alt=\"Open In Colab\"/></a>"
      ]
    },
    {
      "cell_type": "markdown",
      "source": [],
      "metadata": {
        "id": "i6fjeppGDIvK"
      }
    },
    {
      "cell_type": "markdown",
      "source": [
        "# Proyecto"
      ],
      "metadata": {
        "id": "Zr_aV56nDKqf"
      }
    },
    {
      "cell_type": "markdown",
      "source": [
        "# Introduccion"
      ],
      "metadata": {
        "id": "GvrToB47DYGC"
      }
    },
    {
      "cell_type": "markdown",
      "source": [
        "## Item"
      ],
      "metadata": {
        "id": "Hd9C2oFgD6Yj"
      }
    },
    {
      "cell_type": "code",
      "source": [],
      "metadata": {
        "id": "iVn8EpEsD7V1"
      },
      "execution_count": null,
      "outputs": []
    }
  ]
}