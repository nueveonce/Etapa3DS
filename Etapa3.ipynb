{
  "nbformat": 4,
  "nbformat_minor": 0,
  "metadata": {
    "colab": {
      "provenance": [],
      "toc_visible": true,
      "authorship_tag": "ABX9TyOfng1B/G0UyLr6N8yBM8c3",
      "include_colab_link": true
    },
    "kernelspec": {
      "name": "python3",
      "display_name": "Python 3"
    },
    "language_info": {
      "name": "python"
    }
  },
  "cells": [
    {
      "cell_type": "markdown",
      "metadata": {
        "id": "view-in-github",
        "colab_type": "text"
      },
      "source": [
        "<a href=\"https://colab.research.google.com/github/nueveonce/Etapa3DS/blob/main/Etapa3.ipynb\" target=\"_parent\"><img src=\"https://colab.research.google.com/assets/colab-badge.svg\" alt=\"Open In Colab\"/></a>"
      ]
    },
    {
      "cell_type": "markdown",
      "source": [
        "# Proyecto NLP: Análisis de Ofertas de Trabajo en LinkedIn"
      ],
      "metadata": {
        "id": "Zr_aV56nDKqf"
      }
    },
    {
      "cell_type": "markdown",
      "source": [
        "# Introduccion"
      ],
      "metadata": {
        "id": "GvrToB47DYGC"
      }
    },
    {
      "cell_type": "markdown",
      "source": [
        "## 1. Descripción del Problema de Negocio"
      ],
      "metadata": {
        "id": "Hd9C2oFgD6Yj"
      }
    },
    {
      "cell_type": "markdown",
      "source": [
        "Las empresas publican miles de ofertas de trabajo diariamente en plataformas como LinkedIn. Analizar manualmente estas descripciones para extraer información relevante (habilidades requeridas, tipo de contrato, sentimiento general de la oferta, etc.) es una tarea ardua y consume mucho tiempo. Existe la necesidad de automatizar este análisis para identificar tendencias del mercado laboral, optimizar la redacción de ofertas y facilitar a los candidatos la búsqueda de puestos adecuados.\n"
      ],
      "metadata": {
        "id": "2NJTxoLCgOEL"
      }
    },
    {
      "cell_type": "markdown",
      "source": [
        "# 2. Objetivo General\n",
        "Aplicar técnicas de Procesamiento de Lenguaje Natural (NLP) para analizar y extraer información valiosa de las descripciones de puestos de trabajo publicados en LinkedIn. Específicamente, se buscará:\n",
        " * Preprocesar el texto de las descripciones.\n",
        " * Identificar las palabras y términos más frecuentes y significativos.\n",
        " * Analizar el sentimiento general expresado en las descripciones.\n",
        " * (Opcional Avanzado) Desarrollar un modelo de clasificación para predecir alguna característica de la oferta (ej. \"seniority\" inferida)."
      ],
      "metadata": {
        "id": "fkBSvcFelNS-"
      }
    },
    {
      "cell_type": "markdown",
      "source": [
        "## 3. Origen de los Datos\n",
        "El dataset proviene de LinkedIn y contiene información sobre ofertas de trabajo. La columna principal para el análisis NLP será 'description'."
      ],
      "metadata": {
        "id": "MvkK--X1o-jC"
      }
    },
    {
      "cell_type": "code",
      "source": [
        "# importacion de librerias\n",
        "import pandas as pd\n",
        "import re\n",
        "import string\n",
        "import nltk\n",
        "nltk.download('punkt')\n",
        "# Carga de datos\n",
        "df = pd.read_csv('clean_jobs.csv')"
      ],
      "metadata": {
        "id": "iVn8EpEsD7V1",
        "outputId": "be363d8b-ef39-4d64-93dd-a2a4dfd5b62f",
        "colab": {
          "base_uri": "https://localhost:8080/"
        }
      },
      "execution_count": 27,
      "outputs": [
        {
          "output_type": "stream",
          "name": "stderr",
          "text": [
            "[nltk_data] Downloading package punkt to /root/nltk_data...\n",
            "[nltk_data]   Package punkt is already up-to-date!\n"
          ]
        }
      ]
    },
    {
      "cell_type": "markdown",
      "source": [
        "# 4.Definición de las Variables:\n",
        "\n",
        "id: Identificador único del trabajo (Numérico).\n",
        "* title: Nombre del puesto de trabajo (Texto). Potencialmente útil para NLP, podría combinarse con 'description' o usarse para filtrar.\n",
        "* company: Nombre de la empresa (Texto).\n",
        "* location: Nombre del país del puesto de trabajo (Texto).\n",
        "* link: URL de LinkedIn (Texto).\n",
        "source: Siempre es LinkedIn (Texto).\n",
        "* date_posted: Fecha de publicación del puesto de trabajo (Fecha/Texto). Podría usarse para análisis de tendencias temporales, pero no directamente para NLP del contenido.\n",
        "* work_type: (NaN) - No disponible/Vacío.\n",
        "* employment_type: (NaN) - No disponible/Vacío.\n",
        "* description: Descripción del trabajo (Texto). Esta será la columna principal para el análisis NLP."
      ],
      "metadata": {
        "id": "pVi3ID_cfUeM"
      }
    },
    {
      "cell_type": "markdown",
      "source": [
        "# 5.Librerias utilizadas"
      ],
      "metadata": {
        "id": "YWmvUdZag86j"
      }
    },
    {
      "cell_type": "markdown",
      "source": [
        "# 6 Desarrollo"
      ],
      "metadata": {
        "id": "UFdOEzZKhD60"
      }
    },
    {
      "cell_type": "markdown",
      "source": [
        "## 6.1. Lectura del documento"
      ],
      "metadata": {
        "id": "ECtAdYV5w_V8"
      }
    },
    {
      "cell_type": "code",
      "source": [
        "df.head(5)"
      ],
      "metadata": {
        "id": "OiHQF4dqTD19",
        "outputId": "6845657b-8ff5-4917-ee32-8d620a217d29",
        "colab": {
          "base_uri": "https://localhost:8080/",
          "height": 400
        }
      },
      "execution_count": 28,
      "outputs": [
        {
          "output_type": "execute_result",
          "data": {
            "text/plain": [
              "   id            title    company           location  \\\n",
              "0   1     Data Analyst       Meta       New York, NY   \n",
              "1   2     Data Analyst       Meta  San Francisco, CA   \n",
              "2   3     Data Analyst       Meta    Los Angeles, CA   \n",
              "3   4     Data Analyst       Meta     Washington, DC   \n",
              "4   5  Data Analyst II  Pinterest        Chicago, IL   \n",
              "\n",
              "                                                link    source date_posted  \\\n",
              "0  https://www.linkedin.com/jobs/view/data-analys...  LinkedIn  2025-04-14   \n",
              "1  https://www.linkedin.com/jobs/view/data-analys...  LinkedIn  2025-04-14   \n",
              "2  https://www.linkedin.com/jobs/view/data-analys...  LinkedIn  2025-04-14   \n",
              "3  https://www.linkedin.com/jobs/view/data-analys...  LinkedIn  2025-04-14   \n",
              "4  https://www.linkedin.com/jobs/view/data-analys...  LinkedIn  2025-04-16   \n",
              "\n",
              "   work_type  employment_type  \\\n",
              "0        NaN              NaN   \n",
              "1        NaN              NaN   \n",
              "2        NaN              NaN   \n",
              "3        NaN              NaN   \n",
              "4        NaN              NaN   \n",
              "\n",
              "                                         description  \n",
              "0  The Social Measurement team is a growing team ...  \n",
              "1  The Social Measurement team is a growing team ...  \n",
              "2  The Social Measurement team is a growing team ...  \n",
              "3  The Social Measurement team is a growing team ...  \n",
              "4  About Pinterest\\n\\nMillions of people around t...  "
            ],
            "text/html": [
              "\n",
              "  <div id=\"df-431212ac-11f6-43a9-8bee-43609e984984\" class=\"colab-df-container\">\n",
              "    <div>\n",
              "<style scoped>\n",
              "    .dataframe tbody tr th:only-of-type {\n",
              "        vertical-align: middle;\n",
              "    }\n",
              "\n",
              "    .dataframe tbody tr th {\n",
              "        vertical-align: top;\n",
              "    }\n",
              "\n",
              "    .dataframe thead th {\n",
              "        text-align: right;\n",
              "    }\n",
              "</style>\n",
              "<table border=\"1\" class=\"dataframe\">\n",
              "  <thead>\n",
              "    <tr style=\"text-align: right;\">\n",
              "      <th></th>\n",
              "      <th>id</th>\n",
              "      <th>title</th>\n",
              "      <th>company</th>\n",
              "      <th>location</th>\n",
              "      <th>link</th>\n",
              "      <th>source</th>\n",
              "      <th>date_posted</th>\n",
              "      <th>work_type</th>\n",
              "      <th>employment_type</th>\n",
              "      <th>description</th>\n",
              "    </tr>\n",
              "  </thead>\n",
              "  <tbody>\n",
              "    <tr>\n",
              "      <th>0</th>\n",
              "      <td>1</td>\n",
              "      <td>Data Analyst</td>\n",
              "      <td>Meta</td>\n",
              "      <td>New York, NY</td>\n",
              "      <td>https://www.linkedin.com/jobs/view/data-analys...</td>\n",
              "      <td>LinkedIn</td>\n",
              "      <td>2025-04-14</td>\n",
              "      <td>NaN</td>\n",
              "      <td>NaN</td>\n",
              "      <td>The Social Measurement team is a growing team ...</td>\n",
              "    </tr>\n",
              "    <tr>\n",
              "      <th>1</th>\n",
              "      <td>2</td>\n",
              "      <td>Data Analyst</td>\n",
              "      <td>Meta</td>\n",
              "      <td>San Francisco, CA</td>\n",
              "      <td>https://www.linkedin.com/jobs/view/data-analys...</td>\n",
              "      <td>LinkedIn</td>\n",
              "      <td>2025-04-14</td>\n",
              "      <td>NaN</td>\n",
              "      <td>NaN</td>\n",
              "      <td>The Social Measurement team is a growing team ...</td>\n",
              "    </tr>\n",
              "    <tr>\n",
              "      <th>2</th>\n",
              "      <td>3</td>\n",
              "      <td>Data Analyst</td>\n",
              "      <td>Meta</td>\n",
              "      <td>Los Angeles, CA</td>\n",
              "      <td>https://www.linkedin.com/jobs/view/data-analys...</td>\n",
              "      <td>LinkedIn</td>\n",
              "      <td>2025-04-14</td>\n",
              "      <td>NaN</td>\n",
              "      <td>NaN</td>\n",
              "      <td>The Social Measurement team is a growing team ...</td>\n",
              "    </tr>\n",
              "    <tr>\n",
              "      <th>3</th>\n",
              "      <td>4</td>\n",
              "      <td>Data Analyst</td>\n",
              "      <td>Meta</td>\n",
              "      <td>Washington, DC</td>\n",
              "      <td>https://www.linkedin.com/jobs/view/data-analys...</td>\n",
              "      <td>LinkedIn</td>\n",
              "      <td>2025-04-14</td>\n",
              "      <td>NaN</td>\n",
              "      <td>NaN</td>\n",
              "      <td>The Social Measurement team is a growing team ...</td>\n",
              "    </tr>\n",
              "    <tr>\n",
              "      <th>4</th>\n",
              "      <td>5</td>\n",
              "      <td>Data Analyst II</td>\n",
              "      <td>Pinterest</td>\n",
              "      <td>Chicago, IL</td>\n",
              "      <td>https://www.linkedin.com/jobs/view/data-analys...</td>\n",
              "      <td>LinkedIn</td>\n",
              "      <td>2025-04-16</td>\n",
              "      <td>NaN</td>\n",
              "      <td>NaN</td>\n",
              "      <td>About Pinterest\\n\\nMillions of people around t...</td>\n",
              "    </tr>\n",
              "  </tbody>\n",
              "</table>\n",
              "</div>\n",
              "    <div class=\"colab-df-buttons\">\n",
              "\n",
              "  <div class=\"colab-df-container\">\n",
              "    <button class=\"colab-df-convert\" onclick=\"convertToInteractive('df-431212ac-11f6-43a9-8bee-43609e984984')\"\n",
              "            title=\"Convert this dataframe to an interactive table.\"\n",
              "            style=\"display:none;\">\n",
              "\n",
              "  <svg xmlns=\"http://www.w3.org/2000/svg\" height=\"24px\" viewBox=\"0 -960 960 960\">\n",
              "    <path d=\"M120-120v-720h720v720H120Zm60-500h600v-160H180v160Zm220 220h160v-160H400v160Zm0 220h160v-160H400v160ZM180-400h160v-160H180v160Zm440 0h160v-160H620v160ZM180-180h160v-160H180v160Zm440 0h160v-160H620v160Z\"/>\n",
              "  </svg>\n",
              "    </button>\n",
              "\n",
              "  <style>\n",
              "    .colab-df-container {\n",
              "      display:flex;\n",
              "      gap: 12px;\n",
              "    }\n",
              "\n",
              "    .colab-df-convert {\n",
              "      background-color: #E8F0FE;\n",
              "      border: none;\n",
              "      border-radius: 50%;\n",
              "      cursor: pointer;\n",
              "      display: none;\n",
              "      fill: #1967D2;\n",
              "      height: 32px;\n",
              "      padding: 0 0 0 0;\n",
              "      width: 32px;\n",
              "    }\n",
              "\n",
              "    .colab-df-convert:hover {\n",
              "      background-color: #E2EBFA;\n",
              "      box-shadow: 0px 1px 2px rgba(60, 64, 67, 0.3), 0px 1px 3px 1px rgba(60, 64, 67, 0.15);\n",
              "      fill: #174EA6;\n",
              "    }\n",
              "\n",
              "    .colab-df-buttons div {\n",
              "      margin-bottom: 4px;\n",
              "    }\n",
              "\n",
              "    [theme=dark] .colab-df-convert {\n",
              "      background-color: #3B4455;\n",
              "      fill: #D2E3FC;\n",
              "    }\n",
              "\n",
              "    [theme=dark] .colab-df-convert:hover {\n",
              "      background-color: #434B5C;\n",
              "      box-shadow: 0px 1px 3px 1px rgba(0, 0, 0, 0.15);\n",
              "      filter: drop-shadow(0px 1px 2px rgba(0, 0, 0, 0.3));\n",
              "      fill: #FFFFFF;\n",
              "    }\n",
              "  </style>\n",
              "\n",
              "    <script>\n",
              "      const buttonEl =\n",
              "        document.querySelector('#df-431212ac-11f6-43a9-8bee-43609e984984 button.colab-df-convert');\n",
              "      buttonEl.style.display =\n",
              "        google.colab.kernel.accessAllowed ? 'block' : 'none';\n",
              "\n",
              "      async function convertToInteractive(key) {\n",
              "        const element = document.querySelector('#df-431212ac-11f6-43a9-8bee-43609e984984');\n",
              "        const dataTable =\n",
              "          await google.colab.kernel.invokeFunction('convertToInteractive',\n",
              "                                                    [key], {});\n",
              "        if (!dataTable) return;\n",
              "\n",
              "        const docLinkHtml = 'Like what you see? Visit the ' +\n",
              "          '<a target=\"_blank\" href=https://colab.research.google.com/notebooks/data_table.ipynb>data table notebook</a>'\n",
              "          + ' to learn more about interactive tables.';\n",
              "        element.innerHTML = '';\n",
              "        dataTable['output_type'] = 'display_data';\n",
              "        await google.colab.output.renderOutput(dataTable, element);\n",
              "        const docLink = document.createElement('div');\n",
              "        docLink.innerHTML = docLinkHtml;\n",
              "        element.appendChild(docLink);\n",
              "      }\n",
              "    </script>\n",
              "  </div>\n",
              "\n",
              "\n",
              "    <div id=\"df-207ec3a3-8680-431c-b39f-8132d5aab2ed\">\n",
              "      <button class=\"colab-df-quickchart\" onclick=\"quickchart('df-207ec3a3-8680-431c-b39f-8132d5aab2ed')\"\n",
              "                title=\"Suggest charts\"\n",
              "                style=\"display:none;\">\n",
              "\n",
              "<svg xmlns=\"http://www.w3.org/2000/svg\" height=\"24px\"viewBox=\"0 0 24 24\"\n",
              "     width=\"24px\">\n",
              "    <g>\n",
              "        <path d=\"M19 3H5c-1.1 0-2 .9-2 2v14c0 1.1.9 2 2 2h14c1.1 0 2-.9 2-2V5c0-1.1-.9-2-2-2zM9 17H7v-7h2v7zm4 0h-2V7h2v10zm4 0h-2v-4h2v4z\"/>\n",
              "    </g>\n",
              "</svg>\n",
              "      </button>\n",
              "\n",
              "<style>\n",
              "  .colab-df-quickchart {\n",
              "      --bg-color: #E8F0FE;\n",
              "      --fill-color: #1967D2;\n",
              "      --hover-bg-color: #E2EBFA;\n",
              "      --hover-fill-color: #174EA6;\n",
              "      --disabled-fill-color: #AAA;\n",
              "      --disabled-bg-color: #DDD;\n",
              "  }\n",
              "\n",
              "  [theme=dark] .colab-df-quickchart {\n",
              "      --bg-color: #3B4455;\n",
              "      --fill-color: #D2E3FC;\n",
              "      --hover-bg-color: #434B5C;\n",
              "      --hover-fill-color: #FFFFFF;\n",
              "      --disabled-bg-color: #3B4455;\n",
              "      --disabled-fill-color: #666;\n",
              "  }\n",
              "\n",
              "  .colab-df-quickchart {\n",
              "    background-color: var(--bg-color);\n",
              "    border: none;\n",
              "    border-radius: 50%;\n",
              "    cursor: pointer;\n",
              "    display: none;\n",
              "    fill: var(--fill-color);\n",
              "    height: 32px;\n",
              "    padding: 0;\n",
              "    width: 32px;\n",
              "  }\n",
              "\n",
              "  .colab-df-quickchart:hover {\n",
              "    background-color: var(--hover-bg-color);\n",
              "    box-shadow: 0 1px 2px rgba(60, 64, 67, 0.3), 0 1px 3px 1px rgba(60, 64, 67, 0.15);\n",
              "    fill: var(--button-hover-fill-color);\n",
              "  }\n",
              "\n",
              "  .colab-df-quickchart-complete:disabled,\n",
              "  .colab-df-quickchart-complete:disabled:hover {\n",
              "    background-color: var(--disabled-bg-color);\n",
              "    fill: var(--disabled-fill-color);\n",
              "    box-shadow: none;\n",
              "  }\n",
              "\n",
              "  .colab-df-spinner {\n",
              "    border: 2px solid var(--fill-color);\n",
              "    border-color: transparent;\n",
              "    border-bottom-color: var(--fill-color);\n",
              "    animation:\n",
              "      spin 1s steps(1) infinite;\n",
              "  }\n",
              "\n",
              "  @keyframes spin {\n",
              "    0% {\n",
              "      border-color: transparent;\n",
              "      border-bottom-color: var(--fill-color);\n",
              "      border-left-color: var(--fill-color);\n",
              "    }\n",
              "    20% {\n",
              "      border-color: transparent;\n",
              "      border-left-color: var(--fill-color);\n",
              "      border-top-color: var(--fill-color);\n",
              "    }\n",
              "    30% {\n",
              "      border-color: transparent;\n",
              "      border-left-color: var(--fill-color);\n",
              "      border-top-color: var(--fill-color);\n",
              "      border-right-color: var(--fill-color);\n",
              "    }\n",
              "    40% {\n",
              "      border-color: transparent;\n",
              "      border-right-color: var(--fill-color);\n",
              "      border-top-color: var(--fill-color);\n",
              "    }\n",
              "    60% {\n",
              "      border-color: transparent;\n",
              "      border-right-color: var(--fill-color);\n",
              "    }\n",
              "    80% {\n",
              "      border-color: transparent;\n",
              "      border-right-color: var(--fill-color);\n",
              "      border-bottom-color: var(--fill-color);\n",
              "    }\n",
              "    90% {\n",
              "      border-color: transparent;\n",
              "      border-bottom-color: var(--fill-color);\n",
              "    }\n",
              "  }\n",
              "</style>\n",
              "\n",
              "      <script>\n",
              "        async function quickchart(key) {\n",
              "          const quickchartButtonEl =\n",
              "            document.querySelector('#' + key + ' button');\n",
              "          quickchartButtonEl.disabled = true;  // To prevent multiple clicks.\n",
              "          quickchartButtonEl.classList.add('colab-df-spinner');\n",
              "          try {\n",
              "            const charts = await google.colab.kernel.invokeFunction(\n",
              "                'suggestCharts', [key], {});\n",
              "          } catch (error) {\n",
              "            console.error('Error during call to suggestCharts:', error);\n",
              "          }\n",
              "          quickchartButtonEl.classList.remove('colab-df-spinner');\n",
              "          quickchartButtonEl.classList.add('colab-df-quickchart-complete');\n",
              "        }\n",
              "        (() => {\n",
              "          let quickchartButtonEl =\n",
              "            document.querySelector('#df-207ec3a3-8680-431c-b39f-8132d5aab2ed button');\n",
              "          quickchartButtonEl.style.display =\n",
              "            google.colab.kernel.accessAllowed ? 'block' : 'none';\n",
              "        })();\n",
              "      </script>\n",
              "    </div>\n",
              "\n",
              "    </div>\n",
              "  </div>\n"
            ],
            "application/vnd.google.colaboratory.intrinsic+json": {
              "type": "dataframe",
              "variable_name": "df",
              "summary": "{\n  \"name\": \"df\",\n  \"rows\": 327,\n  \"fields\": [\n    {\n      \"column\": \"id\",\n      \"properties\": {\n        \"dtype\": \"number\",\n        \"std\": 224,\n        \"min\": 1,\n        \"max\": 741,\n        \"num_unique_values\": 327,\n        \"samples\": [\n          586,\n          294,\n          605\n        ],\n        \"semantic_type\": \"\",\n        \"description\": \"\"\n      }\n    },\n    {\n      \"column\": \"title\",\n      \"properties\": {\n        \"dtype\": \"category\",\n        \"num_unique_values\": 149,\n        \"samples\": [\n          \"Junior Frontend Developer\",\n          \"Analyst\",\n          \"Data Engineer, Analytics (Technical Leadership)\"\n        ],\n        \"semantic_type\": \"\",\n        \"description\": \"\"\n      }\n    },\n    {\n      \"column\": \"company\",\n      \"properties\": {\n        \"dtype\": \"string\",\n        \"num_unique_values\": 193,\n        \"samples\": [\n          \"Publicis Digital Experience\",\n          \"Astria Digital\",\n          \"The Walt Disney Company\"\n        ],\n        \"semantic_type\": \"\",\n        \"description\": \"\"\n      }\n    },\n    {\n      \"column\": \"location\",\n      \"properties\": {\n        \"dtype\": \"category\",\n        \"num_unique_values\": 120,\n        \"samples\": [\n          \"Greater Rio de Janeiro\",\n          \"United Kingdom\",\n          \"Chicago, IL\"\n        ],\n        \"semantic_type\": \"\",\n        \"description\": \"\"\n      }\n    },\n    {\n      \"column\": \"link\",\n      \"properties\": {\n        \"dtype\": \"string\",\n        \"num_unique_values\": 327,\n        \"samples\": [\n          \"https://www.linkedin.com/jobs/view/analytics-engineer-l4-acquisition-at-netflix-4207666895\",\n          \"https://www.linkedin.com/jobs/view/data-analyst-i-at-aditi-consulting-4211743647\",\n          \"https://www.linkedin.com/jobs/view/data-engineer-product-analytics-at-meta-4188685175\"\n        ],\n        \"semantic_type\": \"\",\n        \"description\": \"\"\n      }\n    },\n    {\n      \"column\": \"source\",\n      \"properties\": {\n        \"dtype\": \"category\",\n        \"num_unique_values\": 1,\n        \"samples\": [\n          \"LinkedIn\"\n        ],\n        \"semantic_type\": \"\",\n        \"description\": \"\"\n      }\n    },\n    {\n      \"column\": \"date_posted\",\n      \"properties\": {\n        \"dtype\": \"object\",\n        \"num_unique_values\": 8,\n        \"samples\": [\n          \"2025-04-16\"\n        ],\n        \"semantic_type\": \"\",\n        \"description\": \"\"\n      }\n    },\n    {\n      \"column\": \"work_type\",\n      \"properties\": {\n        \"dtype\": \"number\",\n        \"std\": null,\n        \"min\": null,\n        \"max\": null,\n        \"num_unique_values\": 0,\n        \"samples\": [],\n        \"semantic_type\": \"\",\n        \"description\": \"\"\n      }\n    },\n    {\n      \"column\": \"employment_type\",\n      \"properties\": {\n        \"dtype\": \"number\",\n        \"std\": null,\n        \"min\": null,\n        \"max\": null,\n        \"num_unique_values\": 0,\n        \"samples\": [],\n        \"semantic_type\": \"\",\n        \"description\": \"\"\n      }\n    },\n    {\n      \"column\": \"description\",\n      \"properties\": {\n        \"dtype\": \"string\",\n        \"num_unique_values\": 269,\n        \"samples\": [],\n        \"semantic_type\": \"\",\n        \"description\": \"\"\n      }\n    }\n  ]\n}"
            }
          },
          "metadata": {},
          "execution_count": 28
        }
      ]
    },
    {
      "cell_type": "code",
      "source": [
        "df.info()"
      ],
      "metadata": {
        "id": "hX5u01ByTIPd",
        "outputId": "7fbf36af-7158-40fd-9123-b02b14888030",
        "colab": {
          "base_uri": "https://localhost:8080/"
        }
      },
      "execution_count": 29,
      "outputs": [
        {
          "output_type": "stream",
          "name": "stdout",
          "text": [
            "<class 'pandas.core.frame.DataFrame'>\n",
            "RangeIndex: 327 entries, 0 to 326\n",
            "Data columns (total 10 columns):\n",
            " #   Column           Non-Null Count  Dtype  \n",
            "---  ------           --------------  -----  \n",
            " 0   id               327 non-null    int64  \n",
            " 1   title            327 non-null    object \n",
            " 2   company          327 non-null    object \n",
            " 3   location         327 non-null    object \n",
            " 4   link             327 non-null    object \n",
            " 5   source           327 non-null    object \n",
            " 6   date_posted      327 non-null    object \n",
            " 7   work_type        0 non-null      float64\n",
            " 8   employment_type  0 non-null      float64\n",
            " 9   description      327 non-null    object \n",
            "dtypes: float64(2), int64(1), object(7)\n",
            "memory usage: 25.7+ KB\n"
          ]
        }
      ]
    },
    {
      "cell_type": "markdown",
      "source": [
        "### 6.1.1 Busqueda de valores nulos"
      ],
      "metadata": {
        "id": "eMNcG9CbiOiD"
      }
    },
    {
      "cell_type": "code",
      "source": [
        "df.isnull().sum()"
      ],
      "metadata": {
        "id": "S_OERYWahJbb",
        "outputId": "2101c793-07a0-4bc0-b41b-c25ca7d53b0d",
        "colab": {
          "base_uri": "https://localhost:8080/",
          "height": 398
        }
      },
      "execution_count": 30,
      "outputs": [
        {
          "output_type": "execute_result",
          "data": {
            "text/plain": [
              "id                   0\n",
              "title                0\n",
              "company              0\n",
              "location             0\n",
              "link                 0\n",
              "source               0\n",
              "date_posted          0\n",
              "work_type          327\n",
              "employment_type    327\n",
              "description          0\n",
              "dtype: int64"
            ],
            "text/html": [
              "<div>\n",
              "<style scoped>\n",
              "    .dataframe tbody tr th:only-of-type {\n",
              "        vertical-align: middle;\n",
              "    }\n",
              "\n",
              "    .dataframe tbody tr th {\n",
              "        vertical-align: top;\n",
              "    }\n",
              "\n",
              "    .dataframe thead th {\n",
              "        text-align: right;\n",
              "    }\n",
              "</style>\n",
              "<table border=\"1\" class=\"dataframe\">\n",
              "  <thead>\n",
              "    <tr style=\"text-align: right;\">\n",
              "      <th></th>\n",
              "      <th>0</th>\n",
              "    </tr>\n",
              "  </thead>\n",
              "  <tbody>\n",
              "    <tr>\n",
              "      <th>id</th>\n",
              "      <td>0</td>\n",
              "    </tr>\n",
              "    <tr>\n",
              "      <th>title</th>\n",
              "      <td>0</td>\n",
              "    </tr>\n",
              "    <tr>\n",
              "      <th>company</th>\n",
              "      <td>0</td>\n",
              "    </tr>\n",
              "    <tr>\n",
              "      <th>location</th>\n",
              "      <td>0</td>\n",
              "    </tr>\n",
              "    <tr>\n",
              "      <th>link</th>\n",
              "      <td>0</td>\n",
              "    </tr>\n",
              "    <tr>\n",
              "      <th>source</th>\n",
              "      <td>0</td>\n",
              "    </tr>\n",
              "    <tr>\n",
              "      <th>date_posted</th>\n",
              "      <td>0</td>\n",
              "    </tr>\n",
              "    <tr>\n",
              "      <th>work_type</th>\n",
              "      <td>327</td>\n",
              "    </tr>\n",
              "    <tr>\n",
              "      <th>employment_type</th>\n",
              "      <td>327</td>\n",
              "    </tr>\n",
              "    <tr>\n",
              "      <th>description</th>\n",
              "      <td>0</td>\n",
              "    </tr>\n",
              "  </tbody>\n",
              "</table>\n",
              "</div><br><label><b>dtype:</b> int64</label>"
            ]
          },
          "metadata": {},
          "execution_count": 30
        }
      ]
    },
    {
      "cell_type": "markdown",
      "source": [
        "### 6.1.3 Eliminacion de velores nulos"
      ],
      "metadata": {
        "id": "ZUOOgmQsiVQB"
      }
    },
    {
      "cell_type": "code",
      "source": [
        "# Se decide eliminar las columnas work_type y employment_type ya que no contienen valores en todo el dataset\n",
        "df = df.drop(['work_type', 'employment_type'], axis=1)"
      ],
      "metadata": {
        "id": "ZMWXq4ediJJJ"
      },
      "execution_count": 31,
      "outputs": []
    },
    {
      "cell_type": "markdown",
      "source": [
        "## 6.2. Quitar simbolos y signos de puntuación"
      ],
      "metadata": {
        "id": "YGhmyR6tnJ_1"
      }
    },
    {
      "cell_type": "code",
      "source": [
        "\n",
        "\n",
        "def limpiar_texto(texto):\n",
        "\n",
        "    # Quitar URLs\n",
        "    texto = re.sub(r'http\\S+|www\\S+|https\\S+', '', texto, flags=re.MULTILINE)\n",
        "\n",
        "    # Quitar emails\n",
        "    texto = re.sub(r'\\S*@\\S*\\s?', '', texto)\n",
        "\n",
        "    # Quitar saltos de línea y caracteres especiales (manteniendo espacios)\n",
        "    texto = re.sub(r'\\s+', ' ', texto) # Reemplazar múltiples espacios con uno solo\n",
        "    texto = re.sub(r'(\\r\\n|\\r|\\n)', ' ', texto) # Reemplazar saltos de línea con espacio\n",
        "\n",
        "    # Quitar caracteres que no sean alfanuméricos (excepto espacios)\n",
        "    texto = re.sub(r'[^\\w\\s]', '', texto) # Esto quitaría también acentos\n",
        "    # Una mejor aproximación es quitar solo la puntuación explícitamente\n",
        "    texto = texto.translate(str.maketrans('', '', string.punctuation))\n",
        "    # Quitar números si no son relevantes (opcional)\n",
        "    texto = re.sub(r'\\d+', '', texto)\n",
        "    return texto.strip() # Eliminar espacios al inicio y al final\n",
        "\n",
        "df['descripcion_limpia'] = df['description'].astype(str).apply(limpiar_texto)\n",
        "print(\"\\nEjemplo de descripción limpia:\")\n",
        "print(df['descripcion_limpia'].iloc[6])"
      ],
      "metadata": {
        "id": "eoDlcA61i-DL",
        "outputId": "f9aa8ffb-064b-40d3-d16c-59b3d24b9b48",
        "colab": {
          "base_uri": "https://localhost:8080/"
        }
      },
      "execution_count": 36,
      "outputs": [
        {
          "output_type": "stream",
          "name": "stdout",
          "text": [
            "\n",
            "Ejemplo de descripción limpia:\n",
            "Netflix is one of the worlds leading entertainment services with  million paid memberships in over  countries enjoying TV series films and games across a wide variety of genres and languages Members can play pause and resume watching as much as they want anytime anywhere and can change their plans at any time Netflix is seeking a skilled and motivated Production Finance Tax and Vendor Data Analyst to join our team This role is pivotal in supporting our Production Finance teams with tasks related to Netflixs  Tax and Sustainability reporting The ideal candidate will have a strong skills in both data analysis and communication Responsibilities  Tax Analysis Data Pipeline Maintenance Monitor data pipelines to ensure continuous data flow for  tax forms ensuring data is flowing correctly and is available for analysis Data Modeling And Scripting Create and maintain SQL queries for data extraction analysis and reporting Focus on data consumption reconciliation and validation tasks to support tax reporting processes Partner with Production Finance Engineering to track  automation progress AccountingFinance Workflows  Collaboration Collaborate with Netflix Production Finance Netflix Accounts Payable external  accountants and payroll providers to resolve issues and meet deadlines Address data validation issues and ensure accurate tax reporting prior to IRS submission Sustainability Analysis Data Management  Quality Control Project manage and conduct daily quality control of fuel reduction data across Netflix productions for internal and external reporting Manage and complete production data tracker templates based on input from internal and production stakeholders maintaining robust version control Perform quality checks and correct errors in reductions cost and unit data Finalize values and resolve data issues Support data rollup activities including creating charts and summaries for reports and case studies Support spotanalysis as needed including developing new formulas and assumptions based on identified requirements Collaboration And Communication Lead training sessions and office hours for Production Sustainability Advisors Regularly communicate with Regional and Production Sustainability Advisors to address challenges and ensure correct template usage Respond to data entry questions in a timely and collaborative manner troubleshoot and correct errors Qualifications Strong proficiency in SQL and Python is required Strong advanced spreadsheet skills are required Any tax experience is highly preferred Analytical mindset detailoriented Effective communicator able to explain complex concepts to audiences with little to no technical knowledge Highly organized and able to balance multiple projects stakeholders and requests Ability to tackle and simplify complex analytical problems Provide realtime support to productions in both regular US time zone hours and USUKEurope crossover times Previous technical knowledge of electricitygenerators clean technology Electric vehicles and production is a plus but not required ability to learn required Previous understanding of accounting principles GAAP Tax and regulatory reporting a plus but not required ability to learn required Our compensation structure consists solely of an annual salary we do not have bonuses You choose each year how much of your compensation you want in salary versus stock options To determine your personal top of market compensation we rely on market indicators and consider your specific job family background skills and experience to determine your compensation in the market range The range for this role is  Netflix provides comprehensive benefits including Health Plans Mental Health support a k Retirement Plan with employer match Stock Option Program Disability Programs Health Savings and Flexible Spending Accounts Familyforming benefits and Life and Serious Injury Benefits We also offer paid leave of absence programs Fulltime hourly employees accrue  days annually for paid time off to be used for vacation holidays and sick paid time off Fulltime salaried employees are immediately entitled to flexible time off See more detail about our Benefits here Netflix is a unique culture and environment Learn more here Inclusion is a Netflix value and we strive to host a meaningful interview experience for all candidates If you want an accommodationadjustment for a disability or any other reason during the hiring process please send a request to your recruiting partner We are an equalopportunity employer and celebrate diversity recognizing that diversity builds stronger teams We approach diversity and inclusion seriously and thoughtfully We do not discriminate on the basis of race religion color ancestry national origin caste sex sexual orientation gender gender identity or expression age disability medical condition pregnancy genetic makeup marital status or military service Show more\n"
          ]
        }
      ]
    },
    {
      "cell_type": "code",
      "source": [
        "# mostamos solo las columnas descripcion_limpia y description\n",
        "df[['descripcion_limpia', 'description']].head(10)"
      ],
      "metadata": {
        "id": "CbG7x49mnVPg",
        "outputId": "3d671db8-c2c5-4dfe-f7a4-c299b037cdad",
        "colab": {
          "base_uri": "https://localhost:8080/",
          "height": 537
        }
      },
      "execution_count": 37,
      "outputs": [
        {
          "output_type": "execute_result",
          "data": {
            "text/plain": [
              "                                  descripcion_limpia  \\\n",
              "0  The Social Measurement team is a growing team ...   \n",
              "1  The Social Measurement team is a growing team ...   \n",
              "2  The Social Measurement team is a growing team ...   \n",
              "3  The Social Measurement team is a growing team ...   \n",
              "4  About Pinterest Millions of people around the ...   \n",
              "5  About Fanduel FanDuel Group is the premier mob...   \n",
              "6  Netflix is one of the worlds leading entertain...   \n",
              "7  About Fanduel FanDuel Group is the premier mob...   \n",
              "8  Data Analyst Ecommerce  Marketing Analytics Lo...   \n",
              "9  About Pinterest Millions of people around the ...   \n",
              "\n",
              "                                         description  \n",
              "0  The Social Measurement team is a growing team ...  \n",
              "1  The Social Measurement team is a growing team ...  \n",
              "2  The Social Measurement team is a growing team ...  \n",
              "3  The Social Measurement team is a growing team ...  \n",
              "4  About Pinterest\\n\\nMillions of people around t...  \n",
              "5  About Fanduel\\n\\nFanDuel Group is the premier ...  \n",
              "6  Netflix is one of the world's leading entertai...  \n",
              "7  About Fanduel\\n\\nFanDuel Group is the premier ...  \n",
              "8  Data Analyst (Ecommerce & Marketing Analytics)...  \n",
              "9  About Pinterest\\n\\nMillions of people around t...  "
            ],
            "text/html": [
              "\n",
              "  <div id=\"df-c5b693bc-ffda-4bbb-a726-bcb30f2d0e8f\" class=\"colab-df-container\">\n",
              "    <div>\n",
              "<style scoped>\n",
              "    .dataframe tbody tr th:only-of-type {\n",
              "        vertical-align: middle;\n",
              "    }\n",
              "\n",
              "    .dataframe tbody tr th {\n",
              "        vertical-align: top;\n",
              "    }\n",
              "\n",
              "    .dataframe thead th {\n",
              "        text-align: right;\n",
              "    }\n",
              "</style>\n",
              "<table border=\"1\" class=\"dataframe\">\n",
              "  <thead>\n",
              "    <tr style=\"text-align: right;\">\n",
              "      <th></th>\n",
              "      <th>descripcion_limpia</th>\n",
              "      <th>description</th>\n",
              "    </tr>\n",
              "  </thead>\n",
              "  <tbody>\n",
              "    <tr>\n",
              "      <th>0</th>\n",
              "      <td>The Social Measurement team is a growing team ...</td>\n",
              "      <td>The Social Measurement team is a growing team ...</td>\n",
              "    </tr>\n",
              "    <tr>\n",
              "      <th>1</th>\n",
              "      <td>The Social Measurement team is a growing team ...</td>\n",
              "      <td>The Social Measurement team is a growing team ...</td>\n",
              "    </tr>\n",
              "    <tr>\n",
              "      <th>2</th>\n",
              "      <td>The Social Measurement team is a growing team ...</td>\n",
              "      <td>The Social Measurement team is a growing team ...</td>\n",
              "    </tr>\n",
              "    <tr>\n",
              "      <th>3</th>\n",
              "      <td>The Social Measurement team is a growing team ...</td>\n",
              "      <td>The Social Measurement team is a growing team ...</td>\n",
              "    </tr>\n",
              "    <tr>\n",
              "      <th>4</th>\n",
              "      <td>About Pinterest Millions of people around the ...</td>\n",
              "      <td>About Pinterest\\n\\nMillions of people around t...</td>\n",
              "    </tr>\n",
              "    <tr>\n",
              "      <th>5</th>\n",
              "      <td>About Fanduel FanDuel Group is the premier mob...</td>\n",
              "      <td>About Fanduel\\n\\nFanDuel Group is the premier ...</td>\n",
              "    </tr>\n",
              "    <tr>\n",
              "      <th>6</th>\n",
              "      <td>Netflix is one of the worlds leading entertain...</td>\n",
              "      <td>Netflix is one of the world's leading entertai...</td>\n",
              "    </tr>\n",
              "    <tr>\n",
              "      <th>7</th>\n",
              "      <td>About Fanduel FanDuel Group is the premier mob...</td>\n",
              "      <td>About Fanduel\\n\\nFanDuel Group is the premier ...</td>\n",
              "    </tr>\n",
              "    <tr>\n",
              "      <th>8</th>\n",
              "      <td>Data Analyst Ecommerce  Marketing Analytics Lo...</td>\n",
              "      <td>Data Analyst (Ecommerce &amp; Marketing Analytics)...</td>\n",
              "    </tr>\n",
              "    <tr>\n",
              "      <th>9</th>\n",
              "      <td>About Pinterest Millions of people around the ...</td>\n",
              "      <td>About Pinterest\\n\\nMillions of people around t...</td>\n",
              "    </tr>\n",
              "  </tbody>\n",
              "</table>\n",
              "</div>\n",
              "    <div class=\"colab-df-buttons\">\n",
              "\n",
              "  <div class=\"colab-df-container\">\n",
              "    <button class=\"colab-df-convert\" onclick=\"convertToInteractive('df-c5b693bc-ffda-4bbb-a726-bcb30f2d0e8f')\"\n",
              "            title=\"Convert this dataframe to an interactive table.\"\n",
              "            style=\"display:none;\">\n",
              "\n",
              "  <svg xmlns=\"http://www.w3.org/2000/svg\" height=\"24px\" viewBox=\"0 -960 960 960\">\n",
              "    <path d=\"M120-120v-720h720v720H120Zm60-500h600v-160H180v160Zm220 220h160v-160H400v160Zm0 220h160v-160H400v160ZM180-400h160v-160H180v160Zm440 0h160v-160H620v160ZM180-180h160v-160H180v160Zm440 0h160v-160H620v160Z\"/>\n",
              "  </svg>\n",
              "    </button>\n",
              "\n",
              "  <style>\n",
              "    .colab-df-container {\n",
              "      display:flex;\n",
              "      gap: 12px;\n",
              "    }\n",
              "\n",
              "    .colab-df-convert {\n",
              "      background-color: #E8F0FE;\n",
              "      border: none;\n",
              "      border-radius: 50%;\n",
              "      cursor: pointer;\n",
              "      display: none;\n",
              "      fill: #1967D2;\n",
              "      height: 32px;\n",
              "      padding: 0 0 0 0;\n",
              "      width: 32px;\n",
              "    }\n",
              "\n",
              "    .colab-df-convert:hover {\n",
              "      background-color: #E2EBFA;\n",
              "      box-shadow: 0px 1px 2px rgba(60, 64, 67, 0.3), 0px 1px 3px 1px rgba(60, 64, 67, 0.15);\n",
              "      fill: #174EA6;\n",
              "    }\n",
              "\n",
              "    .colab-df-buttons div {\n",
              "      margin-bottom: 4px;\n",
              "    }\n",
              "\n",
              "    [theme=dark] .colab-df-convert {\n",
              "      background-color: #3B4455;\n",
              "      fill: #D2E3FC;\n",
              "    }\n",
              "\n",
              "    [theme=dark] .colab-df-convert:hover {\n",
              "      background-color: #434B5C;\n",
              "      box-shadow: 0px 1px 3px 1px rgba(0, 0, 0, 0.15);\n",
              "      filter: drop-shadow(0px 1px 2px rgba(0, 0, 0, 0.3));\n",
              "      fill: #FFFFFF;\n",
              "    }\n",
              "  </style>\n",
              "\n",
              "    <script>\n",
              "      const buttonEl =\n",
              "        document.querySelector('#df-c5b693bc-ffda-4bbb-a726-bcb30f2d0e8f button.colab-df-convert');\n",
              "      buttonEl.style.display =\n",
              "        google.colab.kernel.accessAllowed ? 'block' : 'none';\n",
              "\n",
              "      async function convertToInteractive(key) {\n",
              "        const element = document.querySelector('#df-c5b693bc-ffda-4bbb-a726-bcb30f2d0e8f');\n",
              "        const dataTable =\n",
              "          await google.colab.kernel.invokeFunction('convertToInteractive',\n",
              "                                                    [key], {});\n",
              "        if (!dataTable) return;\n",
              "\n",
              "        const docLinkHtml = 'Like what you see? Visit the ' +\n",
              "          '<a target=\"_blank\" href=https://colab.research.google.com/notebooks/data_table.ipynb>data table notebook</a>'\n",
              "          + ' to learn more about interactive tables.';\n",
              "        element.innerHTML = '';\n",
              "        dataTable['output_type'] = 'display_data';\n",
              "        await google.colab.output.renderOutput(dataTable, element);\n",
              "        const docLink = document.createElement('div');\n",
              "        docLink.innerHTML = docLinkHtml;\n",
              "        element.appendChild(docLink);\n",
              "      }\n",
              "    </script>\n",
              "  </div>\n",
              "\n",
              "\n",
              "    <div id=\"df-b29c9fdc-55e9-4c3c-b70b-19ae2eb415d9\">\n",
              "      <button class=\"colab-df-quickchart\" onclick=\"quickchart('df-b29c9fdc-55e9-4c3c-b70b-19ae2eb415d9')\"\n",
              "                title=\"Suggest charts\"\n",
              "                style=\"display:none;\">\n",
              "\n",
              "<svg xmlns=\"http://www.w3.org/2000/svg\" height=\"24px\"viewBox=\"0 0 24 24\"\n",
              "     width=\"24px\">\n",
              "    <g>\n",
              "        <path d=\"M19 3H5c-1.1 0-2 .9-2 2v14c0 1.1.9 2 2 2h14c1.1 0 2-.9 2-2V5c0-1.1-.9-2-2-2zM9 17H7v-7h2v7zm4 0h-2V7h2v10zm4 0h-2v-4h2v4z\"/>\n",
              "    </g>\n",
              "</svg>\n",
              "      </button>\n",
              "\n",
              "<style>\n",
              "  .colab-df-quickchart {\n",
              "      --bg-color: #E8F0FE;\n",
              "      --fill-color: #1967D2;\n",
              "      --hover-bg-color: #E2EBFA;\n",
              "      --hover-fill-color: #174EA6;\n",
              "      --disabled-fill-color: #AAA;\n",
              "      --disabled-bg-color: #DDD;\n",
              "  }\n",
              "\n",
              "  [theme=dark] .colab-df-quickchart {\n",
              "      --bg-color: #3B4455;\n",
              "      --fill-color: #D2E3FC;\n",
              "      --hover-bg-color: #434B5C;\n",
              "      --hover-fill-color: #FFFFFF;\n",
              "      --disabled-bg-color: #3B4455;\n",
              "      --disabled-fill-color: #666;\n",
              "  }\n",
              "\n",
              "  .colab-df-quickchart {\n",
              "    background-color: var(--bg-color);\n",
              "    border: none;\n",
              "    border-radius: 50%;\n",
              "    cursor: pointer;\n",
              "    display: none;\n",
              "    fill: var(--fill-color);\n",
              "    height: 32px;\n",
              "    padding: 0;\n",
              "    width: 32px;\n",
              "  }\n",
              "\n",
              "  .colab-df-quickchart:hover {\n",
              "    background-color: var(--hover-bg-color);\n",
              "    box-shadow: 0 1px 2px rgba(60, 64, 67, 0.3), 0 1px 3px 1px rgba(60, 64, 67, 0.15);\n",
              "    fill: var(--button-hover-fill-color);\n",
              "  }\n",
              "\n",
              "  .colab-df-quickchart-complete:disabled,\n",
              "  .colab-df-quickchart-complete:disabled:hover {\n",
              "    background-color: var(--disabled-bg-color);\n",
              "    fill: var(--disabled-fill-color);\n",
              "    box-shadow: none;\n",
              "  }\n",
              "\n",
              "  .colab-df-spinner {\n",
              "    border: 2px solid var(--fill-color);\n",
              "    border-color: transparent;\n",
              "    border-bottom-color: var(--fill-color);\n",
              "    animation:\n",
              "      spin 1s steps(1) infinite;\n",
              "  }\n",
              "\n",
              "  @keyframes spin {\n",
              "    0% {\n",
              "      border-color: transparent;\n",
              "      border-bottom-color: var(--fill-color);\n",
              "      border-left-color: var(--fill-color);\n",
              "    }\n",
              "    20% {\n",
              "      border-color: transparent;\n",
              "      border-left-color: var(--fill-color);\n",
              "      border-top-color: var(--fill-color);\n",
              "    }\n",
              "    30% {\n",
              "      border-color: transparent;\n",
              "      border-left-color: var(--fill-color);\n",
              "      border-top-color: var(--fill-color);\n",
              "      border-right-color: var(--fill-color);\n",
              "    }\n",
              "    40% {\n",
              "      border-color: transparent;\n",
              "      border-right-color: var(--fill-color);\n",
              "      border-top-color: var(--fill-color);\n",
              "    }\n",
              "    60% {\n",
              "      border-color: transparent;\n",
              "      border-right-color: var(--fill-color);\n",
              "    }\n",
              "    80% {\n",
              "      border-color: transparent;\n",
              "      border-right-color: var(--fill-color);\n",
              "      border-bottom-color: var(--fill-color);\n",
              "    }\n",
              "    90% {\n",
              "      border-color: transparent;\n",
              "      border-bottom-color: var(--fill-color);\n",
              "    }\n",
              "  }\n",
              "</style>\n",
              "\n",
              "      <script>\n",
              "        async function quickchart(key) {\n",
              "          const quickchartButtonEl =\n",
              "            document.querySelector('#' + key + ' button');\n",
              "          quickchartButtonEl.disabled = true;  // To prevent multiple clicks.\n",
              "          quickchartButtonEl.classList.add('colab-df-spinner');\n",
              "          try {\n",
              "            const charts = await google.colab.kernel.invokeFunction(\n",
              "                'suggestCharts', [key], {});\n",
              "          } catch (error) {\n",
              "            console.error('Error during call to suggestCharts:', error);\n",
              "          }\n",
              "          quickchartButtonEl.classList.remove('colab-df-spinner');\n",
              "          quickchartButtonEl.classList.add('colab-df-quickchart-complete');\n",
              "        }\n",
              "        (() => {\n",
              "          let quickchartButtonEl =\n",
              "            document.querySelector('#df-b29c9fdc-55e9-4c3c-b70b-19ae2eb415d9 button');\n",
              "          quickchartButtonEl.style.display =\n",
              "            google.colab.kernel.accessAllowed ? 'block' : 'none';\n",
              "        })();\n",
              "      </script>\n",
              "    </div>\n",
              "\n",
              "    </div>\n",
              "  </div>\n"
            ],
            "application/vnd.google.colaboratory.intrinsic+json": {
              "type": "dataframe",
              "summary": "{\n  \"name\": \"df[['descripcion_limpia', 'description']]\",\n  \"rows\": 10,\n  \"fields\": [\n    {\n      \"column\": \"descripcion_limpia\",\n      \"properties\": {\n        \"dtype\": \"string\",\n        \"num_unique_values\": 6,\n        \"samples\": [\n          \"The Social Measurement team is a growing team with highvisibility within the Communications organization that is being tasked with measuring the efficacy and impact of our socialfirst Communications and Marketing efforts Youll play a unique role in shaping the way we approach reporting define success and leverage our own data to support the Communications team In this role you will employ data mining techniques to evaluate the success and efficacy of our socialfirst Communications and Marketing strategies This role is also focused on social listening where youll be responsible for analyzing social conversation around specific topic areas The ideal candidate will possess not only the technical proficiency to devise analytical solutions but also have experience with datastorytelling Data Analyst Responsibilities Employ Natural language processing NLP and social listening analytical techniques to understand how people discuss specific topics Create data pipelines and other analytical solutions that help us track and record metrics that are relevant to campaign measurement and audience engagement Query large data sets using SQL and create data pipelines in other programming languages such as Python or R Conduct statistical analyses to identify trends and patterns in campaign performance Develop and maintain dashboards to communicate findings to stakeholders effectively and in a scalable manner Develop analytical best practices and standardize reporting templates for use within the team Create data visualizations to illustrate social listening trends and topic analyses via Tableau or otherwise Minimum Qualifications Experience in managing multiple projects and meeting deadlines in a fastpaced environment Bachelors Degree in a technical or researchoriented field such as engineering data science social science or related fields with focus on data  eg data journalism  years of work experience in quantitative research statistics or data analysis  years of experience with SQL for data extraction and manipulation Experience with statistical analysis relational databases andor objectoriented programing languages Experience with communicating and presenting findings to nontechnical stakeholders  years experience with NLP or other social listening and topic tagging techniques Preferred Qualifications Advanced technical degree or graduate degree in statistics marketing or related fields Experience in marketing analytics or social media measurement About Meta Meta builds technologies that help people connect find communities and grow businesses When Facebook launched in  it changed the way people connect Apps like Messenger Instagram and WhatsApp further empowered billions around the world Now Meta is moving beyond D screens toward immersive experiences like augmented and virtual reality to help build the next evolution in social technology People who choose to build their careers by building with us at Meta help shape a future that will take us beyond what digital connection makes possible todaybeyond the constraints of screens the limits of distance and even the rules of physics Meta is proud to be an Equal Employment Opportunity and Affirmative Action employer We do not discriminate based upon race religion color national origin sex including pregnancy childbirth or related medical conditions sexual orientation gender gender identity gender expression transgender status sexual stereotypes age status as a protected veteran status as an individual with a disability or other applicable legally protected characteristics We also consider qualified applicants with criminal histories consistent with applicable federal state and local law Meta participates in the EVerify program in certain locations as required by law Please note that Meta may leverage artificial intelligence and machine learning technologies in connection with applications for employment Meta is committed to providing reasonable accommodations for candidates with disabilities in our recruiting process If you need any assistance or accommodations due to a disability please let us know at year to year  bonus  equity  benefits Individual compensation is determined by skills qualifications experience and location Compensation details listed in this posting reflect the base hourly rate monthly rate or annual salary only and do not include bonus equity or sales incentives if applicable In addition to base compensation Meta offers benefits Learn more about benefits at Meta Show more\",\n          \"About Pinterest Millions of people around the world come to our platform to find creative ideas dream about new possibilities and plan for memories that will last a lifetime At Pinterest were on a mission to bring everyone the inspiration to create a life they love and that starts with the people behind the product Discover a career where you ignite innovation for millions transform passion into growth opportunities celebrate each others unique experiences and embrace the flexibility to do your best work Creating a career you love Its Possible We are looking for a Data Analyst II on our Measurement Research team within the Partner Measurement organization to develop and amplify research and tools that prove the value of Pinterest to our advertisers in the everchanging industry landscape The Measurement Research teams mission is to communicate the value of the platform to advertisers and build insights and tools to optimize ad performance The team focuses on analysis of advertising performance using a variety of measurement methodologies eg MMM MTA MMT Brand Lift reporting tools visualizations proactive analytical insights statistical insights and support for the larger Partner Measurement team with our knowledge What Youll Do Conduct analyses of internal and thirdparty data to develop insights on advertising on the platform Access internal data and tools to facilitate research with providers Partner occasionally with outside partners to conduct research Develop tools used by Partner Measurement and Sellers to generate insights at scale Collaborate with crossfunctional teams such as sales product business intelligence product marketing and business marketing to communicate findings both internally and externally What Were Looking For Knowledge of various measurement research methodologies MMM MTA Brand Lifts Site Analytics MMT Bachelors degree in a relevant field such as Economics Statistics Mathematics or equivalent experience Experience using varied quantitative analysis to communicate advertising performance Demonstrated experience extracting manipulating and analyzing data using SQL or comparable languages Facility with Python to manipulate and analyze data Curiosity of the changing advertising landscape Creativity in developing new research initiatives conducting analyses and packaging insights for different audiences Ability to communicate complex information to a range of measurementliterate audiences At Least  years of relevant experience in the field of Advertising Measurement Relocation Statement This position is not eligible for relocation assistance Visit our PinFlex page to learn more about our working model InOffice Requirement Statement We let the type of work you do guide the collaboration style That means were not always working in an office but we continue to gather for key moments of collaboration and connection This role will need to be in the office for inperson collaboration  timesquarter and therefore can be situated anywhere in the country At Pinterest we believe the workplace should be equitable inclusive and inspiring for every employee In an effort to provide greater transparency we are sharing the base salary range for this position The position is also eligible for equity Final salary is based on a number of factors including location travel relevant prior experience or particular skills and expertise Information regarding the culture at Pinterest and benefits available for this position can be found here US based applicants only  USD Our Commitment To Inclusion Pinterest is an equal opportunity employer and makes employment decisions on the basis of merit We want to have the best qualified people in every job All qualified applicants will receive consideration for employment without regard to race color ancestry national origin religion or religious creed sex including pregnancy childbirth or related medical conditions sexual orientation gender gender identity gender expression age marital status status as a protected veteran physical or mental disability medical condition genetic information or characteristics or those of a family member or any other consideration made unlawful by applicable federal state or local laws We also consider qualified applicants regardless of criminal histories consistent with legal requirements If you require a medical or religious accommodation during the job application process please complete this form for support Show more\",\n          \"Data Analyst Ecommerce  Marketing Analytics Location New York NY Hybrid Inoffice and remote Reports To SVP Digital and Ecommerce Role Summary The Data Analyst will focus on delivering advanced data analysis and actionable insights across Ecommerce and marketing channels This role will support customer acquisition retention sales and campaign performance while also driving improvements in data reporting forecasting and overall strategy As a foundational member of our analytics function you will collaborate closely with crossfunctional teams to ensure a unified datadriven approach to achieving business goals Key Responsibilities  Data Analysis  Reporting  Customer Insights  Retention  Strategic Data Leadership  Campaign  Performance Optimization Build the Analytics Foundation Design and implement scalable data pipelines and dashboards to consolidate data from Shopify Google Analytics Meta Ads Klaviyo and other platforms Define and standardize KPIs including CAC ROAS LTV retention churn and conversion rates to ensure consistent reporting across the organization Identify gaps in current data collection and propose solutions to improve accuracy and consistency Analyze customer acquisition retention and lifetime value trends to inform strategic decisions Track and report on marketing channel performance Meta Google email SMS organic etc to uncover insights and drive optimizations Develop realtime dashboards and reporting tools for Ecommerce and marketing KPIs accessible to leadership and key team members Support AB testing efforts for campaigns site changes and creative providing datadriven recommendations Conduct deepdive analyses into customer behavior segmentation and purchasing patterns Build retention models and identify highvalue customer segments to inform targeted marketing strategies Collaborate with marketing teams to reduce churn and increase repeat purchase rates through actionable insights Create a roadmap for the analytics function balancing immediate needs with longterm strategic goals Introduce advanced analytics approaches such as multitouch attribution cohort analysis and predictive modeling to optimize marketing and sales strategies Work closely with buying merchandising marketing and customer service teams to align analytics priorities with business objectives Analyze and optimize marketing spend across channels recommending budget reallocations and campaign adjustments Provide detailed performance reports for quarterly business reviews and strategic planning sessions Support sales forecasting and inventory needs by providing advanced demand and trend analysis Qualifications Technical Skills Proficiency in data visualization tools eg Google Data Studio Tableau Looker Handson experience with platforms such as Shopify Google Analytics Meta Ads Manager and Klaviyo Strong analytical skills with advanced ExcelGoogle Sheets expertise SQL or Python knowledge is a strong plus Deep understanding of Ecommerce metrics CAC ROAS LTV retention conversion rates and churn Strategic Abilities Ability to define and prioritize key metrics and analytics needs for a highgrowth business Proven experience in using data to influence marketing strategies and optimize performance Strong problemsolving skills balancing shortterm execution with longterm planning Soft Skills Excellent communication skills with the ability to translate complex data into actionable insights for nontechnical audiences Highly organized selfmotivated and capable of building processes independently Adaptable and comfortable working in a fastpaced highgrowth environment Experience Bachelors degree in Marketing Data Analytics Business or a related field  years of experience in marketing analytics Ecommerce or performance marketing Salary  Show more\"\n        ],\n        \"semantic_type\": \"\",\n        \"description\": \"\"\n      }\n    },\n    {\n      \"column\": \"description\",\n      \"properties\": {\n        \"dtype\": \"string\",\n        \"num_unique_values\": 6,\n        \"samples\": [\n          \"The Social Measurement team is a growing team with high-visibility within the Communications organization that is being tasked with measuring the efficacy and impact of our social-first Communications and Marketing efforts. You'll play a unique role in shaping the way we approach reporting, define success, and leverage our own data to support the Communications team. In this role, you will employ data mining techniques to evaluate the success and efficacy of our social-first Communications and Marketing strategies. This role is also focused on social listening, where you'll be responsible for analyzing social conversation around specific topic areas. The ideal candidate will possess not only the technical proficiency to devise analytical solutions, but also have experience with data-storytelling.\\n\\nData Analyst Responsibilities:\\n\\n\\nEmploy Natural language processing (NLP) and social listening analytical techniques to understand how people discuss specific topics.\\nCreate data pipelines and other analytical solutions that help us track and record metrics that are relevant to campaign measurement and audience engagement.\\nQuery large data sets using SQL and create data pipelines in other programming languages such as Python or R.\\nConduct statistical analyses to identify trends and patterns in campaign performance.\\nDevelop and maintain dashboards to communicate findings to stakeholders effectively and in a scalable manner.\\nDevelop analytical best practices and standardize reporting templates for use within the team.\\nCreate data visualizations to illustrate social listening trends and topic analyses (via Tableau or otherwise).\\n\\n\\nMinimum Qualifications:\\n\\n\\nExperience in managing multiple projects and meeting deadlines in a fast-paced environment.\\nBachelor's Degree in a technical or research-oriented field such as engineering, data science, social science, or related fields (with focus on data - e.g. data journalism).\\n4+ years of work experience in quantitative research, statistics, or data analysis.\\n2+ years of experience with SQL for data extraction and manipulation.\\nExperience with statistical analysis, relational databases, and/or object-oriented programing languages.\\nExperience with communicating and presenting findings to non-technical stakeholders.\\n2+ years experience with NLP or other social listening and topic tagging techniques.\\n\\n\\nPreferred Qualifications:\\n\\n\\nAdvanced technical degree or graduate degree in statistics, marketing, or related fields.\\nExperience in marketing analytics or social media measurement.\\n\\n\\nAbout Meta:\\n\\nMeta builds technologies that help people connect, find communities, and grow businesses. When Facebook launched in 2004, it changed the way people connect. Apps like Messenger, Instagram and WhatsApp further empowered billions around the world. Now, Meta is moving beyond 2D screens toward immersive experiences like augmented and virtual reality to help build the next evolution in social technology. People who choose to build their careers by building with us at Meta help shape a future that will take us beyond what digital connection makes possible today\\u2014beyond the constraints of screens, the limits of distance, and even the rules of physics.\\n\\nMeta is proud to be an Equal Employment Opportunity and Affirmative Action employer. We do not discriminate based upon race, religion, color, national origin, sex (including pregnancy, childbirth, or related medical conditions), sexual orientation, gender, gender identity, gender expression, transgender status, sexual stereotypes, age, status as a protected veteran, status as an individual with a disability, or other applicable legally protected characteristics. We also consider qualified applicants with criminal histories, consistent with applicable federal, state and local law. Meta participates in the E-Verify program in certain locations, as required by law. Please note that Meta may leverage artificial intelligence and machine learning technologies in connection with applications for employment.\\n\\nMeta is committed to providing reasonable accommodations for candidates with disabilities in our recruiting process. If you need any assistance or accommodations due to a disability, please let us know at accommodations-ext@fb.com.\\n\\n$124,000/year to $176,000/year + bonus + equity + benefits\\n\\nIndividual compensation is determined by skills, qualifications, experience, and location. Compensation details listed in this posting reflect the base hourly rate, monthly rate, or annual salary only, and do not include bonus, equity or sales incentives, if applicable. In addition to base compensation, Meta offers benefits. Learn more about benefits at Meta.\\nShow more\",\n          \"About Pinterest\\n\\nMillions of people around the world come to our platform to find creative ideas, dream about new possibilities and plan for memories that will last a lifetime. At Pinterest, we\\u2019re on a mission to bring everyone the inspiration to create a life they love, and that starts with the people behind the product.\\n\\nDiscover a career where you ignite innovation for millions, transform passion into growth opportunities, celebrate each other\\u2019s unique experiences and embrace the flexibility to do your best work. Creating a career you love? It\\u2019s Possible.\\n\\nWe are looking for a Data Analyst II on our Measurement Research team within the Partner Measurement organization to develop and amplify research and tools that prove the value of Pinterest to our advertisers in the ever-changing industry landscape. The Measurement Research team\\u2019s mission is to communicate the value of the platform to advertisers and build insights and tools to optimize ad performance. The team focuses on analysis of advertising performance using a variety of measurement methodologies (eg MMM, MTA, MMT, Brand Lift), reporting tools, visualizations, proactive analytical insights, statistical insights, and support for the larger Partner Measurement team with our knowledge.\\n\\nWhat You\\u2019ll Do\\n\\n\\nConduct analyses of internal and third-party data to develop insights on advertising on the platform\\nAccess internal data and tools to facilitate research with providers\\nPartner occasionally with outside partners to conduct research\\nDevelop tools used by Partner Measurement and Sellers to generate insights at scale\\nCollaborate with cross-functional teams such as sales, product, business intelligence, product marketing, and business marketing to communicate findings both internally and externally\\n\\n\\n\\nWhat We\\u2019re Looking For\\n\\n\\nKnowledge of various measurement research methodologies (MMM, MTA, Brand Lifts, Site Analytics, MMT)\\nBachelor\\u2019s degree in a relevant field such as Economics, Statistics, Mathematics or equivalent experience\\nExperience using varied quantitative analysis to communicate advertising performance\\nDemonstrated experience extracting, manipulating and analyzing data using SQL or comparable languages\\nFacility with Python to manipulate and analyze data\\nCuriosity of the changing advertising landscape\\nCreativity in developing new research initiatives, conducting analyses, and packaging insights for different audiences\\nAbility to communicate complex information to a range of measurement-literate audiences\\nAt Least 4+ years of relevant experience in the field of Advertising Measurement.\\n\\n\\n\\nRelocation Statement:\\n\\n\\nThis position is not eligible for relocation assistance. Visit our PinFlex page to learn more about our working model.\\n\\n\\n\\nIn-Office Requirement Statement\\n\\n\\nWe let the type of work you do guide the collaboration style. That means we're not always working in an office, but we continue to gather for key moments of collaboration and connection.\\nThis role will need to be in the office for in-person collaboration 1-2 times/quarter and therefore can be situated anywhere in the country.\\n\\n\\n\\nAt Pinterest we believe the workplace should be equitable, inclusive, and inspiring for every employee. In an effort to provide greater transparency, we are sharing the base salary range for this position. The position is also eligible for equity. Final salary is based on a number of factors including location, travel, relevant prior experience, or particular skills and expertise.\\n\\nInformation regarding the culture at Pinterest and benefits available for this position can be found here.\\n\\nUS based applicants only\\n\\n$100,937\\u2014$207,811 USD\\n\\nOur Commitment To Inclusion\\n\\nPinterest is an equal opportunity employer and makes employment decisions on the basis of merit. We want to have the best qualified people in every job. All qualified applicants will receive consideration for employment without regard to race, color, ancestry, national origin, religion or religious creed, sex (including pregnancy, childbirth, or related medical conditions), sexual orientation, gender, gender identity, gender expression, age, marital status, status as a protected veteran, physical or mental disability, medical condition, genetic information or characteristics (or those of a family member) or any other consideration made unlawful by applicable federal, state or local laws. We also consider qualified applicants regardless of criminal histories, consistent with legal requirements. If you require a medical or religious accommodation during the job application process, please complete this form for support.\\n\\n\\nShow more\",\n          \"Data Analyst (Ecommerce & Marketing Analytics)\\n\\nLocation: New York, NY (Hybrid: In-office and remote)\\n\\nReports To: SVP Digital and Ecommerce\\n\\nRole Summary:\\n\\nThe Data Analyst will focus on delivering advanced data analysis and actionable insights across Ecommerce and marketing channels. This role will support customer acquisition, retention, sales, and campaign performance, while also driving improvements in data reporting, forecasting, and overall strategy. As a foundational member of our analytics function, you will collaborate closely with cross-functional teams to ensure a unified, data-driven approach to achieving business goals.\\n\\nKey Responsibilities: 2. Data Analysis & Reporting 3. Customer Insights & Retention 4. Strategic Data Leadership 5. Campaign & Performance Optimization\\n\\n\\nBuild the Analytics Foundation\\nDesign and implement scalable data pipelines and dashboards to consolidate data from Shopify, Google Analytics, Meta Ads, Klaviyo, and other platforms.\\nDefine and standardize KPIs, including CAC, ROAS, LTV, retention, churn, and conversion rates, to ensure consistent reporting across the organization.\\nIdentify gaps in current data collection and propose solutions to improve accuracy and consistency.\\nAnalyze customer acquisition, retention, and lifetime value trends to inform strategic decisions.\\nTrack and report on marketing channel performance (Meta, Google, email, SMS, organic, etc.) to uncover insights and drive optimizations.\\nDevelop real-time dashboards and reporting tools for Ecommerce and marketing KPIs, accessible to leadership and key team members.\\nSupport A/B testing efforts for campaigns, site changes, and creative, providing data-driven recommendations.\\nConduct deep-dive analyses into customer behavior, segmentation, and purchasing patterns.\\nBuild retention models and identify high-value customer segments to inform targeted marketing strategies.\\nCollaborate with marketing teams to reduce churn and increase repeat purchase rates through actionable insights.\\nCreate a roadmap for the analytics function, balancing immediate needs with long-term strategic goals.\\nIntroduce advanced analytics approaches, such as multi-touch attribution, cohort analysis, and predictive modeling, to optimize marketing and sales strategies.\\nWork closely with buying, merchandising, marketing, and customer service teams to align analytics priorities with business objectives.\\nAnalyze and optimize marketing spend across channels, recommending budget reallocations and campaign adjustments.\\nProvide detailed performance reports for quarterly business reviews and strategic planning sessions.\\nSupport sales forecasting and inventory needs by providing advanced demand and trend analysis.\\n\\n\\nQualifications:\\n\\nTechnical Skills\\n\\n\\nProficiency in data visualization tools (e.g., Google Data Studio, Tableau, Looker).\\nHands-on experience with platforms such as Shopify, Google Analytics, Meta Ads Manager, and Klaviyo.\\nStrong analytical skills, with advanced Excel/Google Sheets expertise. SQL or Python knowledge is a strong plus.\\nDeep understanding of Ecommerce metrics: CAC, ROAS, LTV, retention, conversion rates, and churn.\\n\\n\\nStrategic Abilities\\n\\n\\nAbility to define and prioritize key metrics and analytics needs for a high-growth business.\\nProven experience in using data to influence marketing strategies and optimize performance.\\nStrong problem-solving skills, balancing short-term execution with long-term planning.\\n\\n\\nSoft Skills\\n\\n\\nExcellent communication skills, with the ability to translate complex data into actionable insights for non-technical audiences.\\nHighly organized, self-motivated, and capable of building processes independently.\\nAdaptable and comfortable working in a fast-paced, high-growth environment.\\n\\n\\nExperience\\n\\n\\nBachelor\\u2019s degree in Marketing, Data Analytics, Business, or a related field.\\n3+ years of experience in marketing analytics, Ecommerce, or performance marketing.\\n\\n\\nSalary $125,000\\n\\n\\nShow more\"\n        ],\n        \"semantic_type\": \"\",\n        \"description\": \"\"\n      }\n    }\n  ]\n}"
            }
          },
          "metadata": {},
          "execution_count": 37
        }
      ]
    },
    {
      "cell_type": "markdown",
      "source": [
        "# Tokenizar\n",
        "El propósito de la tokenización es dividir el texto en unidades significativas para construir un vocabulario que permita representar todas las palabras de manera única en una lista. Esta división es útil para análisis posteriores, como el etiquetado de partes del discurso (POS Tagging), donde se utiliza un paso de tokenizar el texto."
      ],
      "metadata": {
        "id": "b1_cPPooo7_q"
      }
    },
    {
      "cell_type": "code",
      "source": [
        "def descargar_recursos_nltk():\n",
        "    recursos = ['punkt', 'punkt_tab', 'punkt-table', 'stopwords']  # Agrega otros que necesites\n",
        "    for recurso in recursos:\n",
        "        try:\n",
        "            nltk.download(recurso)\n",
        "        except:\n",
        "            print(f\"El recurso 😫 {recurso} no pudo ser descargado o ya existe\")\n",
        "\n",
        "descargar_recursos_nltk()"
      ],
      "metadata": {
        "id": "GfC2ARgvZuj6",
        "outputId": "53055fa7-0f5e-4d66-f342-20e16bb7f670",
        "colab": {
          "base_uri": "https://localhost:8080/"
        }
      },
      "execution_count": 34,
      "outputs": [
        {
          "output_type": "stream",
          "name": "stderr",
          "text": [
            "[nltk_data] Downloading package punkt to /root/nltk_data...\n",
            "[nltk_data]   Package punkt is already up-to-date!\n",
            "[nltk_data] Downloading package punkt_tab to /root/nltk_data...\n",
            "[nltk_data]   Package punkt_tab is already up-to-date!\n",
            "[nltk_data] Error loading punkt-table: Package 'punkt-table' not found\n",
            "[nltk_data]     in index\n",
            "[nltk_data] Downloading package stopwords to /root/nltk_data...\n",
            "[nltk_data]   Package stopwords is already up-to-date!\n"
          ]
        }
      ]
    },
    {
      "cell_type": "code",
      "source": [
        "# Descargar recursos necesarios de NLTK (solo la primera vez)\n",
        "try:\n",
        "    nltk.data.find('tokenizers/punkt')\n",
        "except LookupError:  # Cambia DownloadError por LookupError\n",
        "    nltk.download('punkt')\n",
        "\n",
        "def tokenizar_texto(texto):\n",
        "    tokens = nltk.word_tokenize(texto, language='english' if any(c in 'áéíóúñ' for c in texto.lower()) else 'english')\n",
        "    # Considerar el idioma de tus descripciones. Si son mayormente en inglés:\n",
        "    # tokens = nltk.word_tokenize(texto, language='english')\n",
        "    return tokens\n",
        "\n",
        "df['tokens'] = df['descripcion_limpia'].apply(tokenizar_texto)\n",
        "print(\"\\nEjemplo de tokens:\")\n",
        "print(df['tokens'].iloc[0][:20]) # Mostrar los primeros 20 tokens"
      ],
      "metadata": {
        "id": "pA5NpK51nX8K",
        "outputId": "171249ce-ab7d-4b53-8256-8382840a8df9",
        "colab": {
          "base_uri": "https://localhost:8080/"
        }
      },
      "execution_count": 35,
      "outputs": [
        {
          "output_type": "stream",
          "name": "stdout",
          "text": [
            "\n",
            "Ejemplo de tokens:\n",
            "['The', 'Social', 'Measurement', 'team', 'is', 'a', 'growing', 'team', 'with', 'highvisibility', 'within', 'the', 'Communications', 'organization', 'that', 'is', 'being', 'tasked', 'with', 'measuring']\n"
          ]
        }
      ]
    },
    {
      "cell_type": "markdown",
      "source": [
        "## 6.3. Convertir a minusculas"
      ],
      "metadata": {
        "id": "fySlGnfd5jUX"
      }
    },
    {
      "cell_type": "code",
      "source": [
        "df['tokens_minusculas'] = df['tokens'].apply(lambda lista_tokens: [token.lower() for token in lista_tokens])\n",
        "\n",
        "print(\"\\nEjemplo de tokens en minúsculas (verificando):\")\n",
        "print(df['tokens_minusculas'].iloc[0][:20])\n"
      ],
      "metadata": {
        "id": "BJYEtnj95sKT",
        "outputId": "2cbc0865-5ca5-43c1-e5db-b618ec1559ef",
        "colab": {
          "base_uri": "https://localhost:8080/"
        }
      },
      "execution_count": 38,
      "outputs": [
        {
          "output_type": "stream",
          "name": "stdout",
          "text": [
            "\n",
            "Ejemplo de tokens en minúsculas (verificando):\n",
            "['the', 'social', 'measurement', 'team', 'is', 'a', 'growing', 'team', 'with', 'highvisibility', 'within', 'the', 'communications', 'organization', 'that', 'is', 'being', 'tasked', 'with', 'measuring']\n"
          ]
        }
      ]
    },
    {
      "cell_type": "markdown",
      "source": [
        "## 6.4. Remoción de Stopwords"
      ],
      "metadata": {
        "id": "Qni-5oU46bcx"
      }
    },
    {
      "cell_type": "code",
      "source": [
        "# Obtener stopwords en inglés\n",
        "stop_words = set(stopwords.words('english'))"
      ],
      "metadata": {
        "id": "QivVJ-Jv6j-V",
        "outputId": "f20dbd4c-f32e-4862-8f31-3d7d8d1fef81",
        "colab": {
          "base_uri": "https://localhost:8080/",
          "height": 159
        }
      },
      "execution_count": 39,
      "outputs": [
        {
          "output_type": "error",
          "ename": "NameError",
          "evalue": "name 'stopwords' is not defined",
          "traceback": [
            "\u001b[0;31m---------------------------------------------------------------------------\u001b[0m",
            "\u001b[0;31mNameError\u001b[0m                                 Traceback (most recent call last)",
            "\u001b[0;32m<ipython-input-39-f5b5b2734cbd>\u001b[0m in \u001b[0;36m<cell line: 0>\u001b[0;34m()\u001b[0m\n\u001b[1;32m      1\u001b[0m \u001b[0;31m# Obtener stopwords en inglés\u001b[0m\u001b[0;34m\u001b[0m\u001b[0;34m\u001b[0m\u001b[0m\n\u001b[0;32m----> 2\u001b[0;31m \u001b[0mstop_words\u001b[0m \u001b[0;34m=\u001b[0m \u001b[0mset\u001b[0m\u001b[0;34m(\u001b[0m\u001b[0mstopwords\u001b[0m\u001b[0;34m.\u001b[0m\u001b[0mwords\u001b[0m\u001b[0;34m(\u001b[0m\u001b[0;34m'english'\u001b[0m\u001b[0;34m)\u001b[0m\u001b[0;34m)\u001b[0m\u001b[0;34m\u001b[0m\u001b[0;34m\u001b[0m\u001b[0m\n\u001b[0m",
            "\u001b[0;31mNameError\u001b[0m: name 'stopwords' is not defined"
          ]
        }
      ]
    },
    {
      "cell_type": "code",
      "source": [],
      "metadata": {
        "id": "6rnRJWCI6zT-"
      },
      "execution_count": null,
      "outputs": []
    }
  ]
}